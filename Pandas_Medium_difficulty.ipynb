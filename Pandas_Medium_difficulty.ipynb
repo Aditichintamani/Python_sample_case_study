{
  "nbformat": 4,
  "nbformat_minor": 0,
  "metadata": {
    "colab": {
      "provenance": [],
      "authorship_tag": "ABX9TyMsIZUJTYQchKWtPdrObp7j",
      "include_colab_link": true
    },
    "kernelspec": {
      "name": "python3",
      "display_name": "Python 3"
    },
    "language_info": {
      "name": "python"
    }
  },
  "cells": [
    {
      "cell_type": "markdown",
      "metadata": {
        "id": "view-in-github",
        "colab_type": "text"
      },
      "source": [
        "<a href=\"https://colab.research.google.com/github/Aditichintamani/Python_sample_case_study/blob/main/Pandas_Medium_difficulty.ipynb\" target=\"_parent\"><img src=\"https://colab.research.google.com/assets/colab-badge.svg\" alt=\"Open In Colab\"/></a>"
      ]
    },
    {
      "cell_type": "markdown",
      "source": [
        "**1. List the top 3 users who accumulated the most sessions. Include only the user who had more streaming sessions than viewing. Return the user_id, number of streaming sessions, and number of viewing sessions.**"
      ],
      "metadata": {
        "id": "CKi4WqKDNKlE"
      }
    },
    {
      "cell_type": "code",
      "execution_count": 5,
      "metadata": {
        "colab": {
          "base_uri": "https://localhost:8080/"
        },
        "id": "m__StupjD7Dr",
        "outputId": "22ef3998-d4aa-428b-88d8-e248d8d67bf5"
      },
      "outputs": [
        {
          "output_type": "stream",
          "name": "stdout",
          "text": [
            "    user_id       session_start         session_end  session_id session_type\n",
            "0         0 2020-08-11 05:51:31 2020-08-11 05:54:45         539     streamer\n",
            "1         2 2020-07-11 03:36:54 2020-07-11 03:37:08         840     streamer\n",
            "2         3 2020-11-26 11:41:47 2020-11-26 11:52:01         848     streamer\n",
            "3         1 2020-11-19 06:24:24 2020-11-19 07:24:38         515       viewer\n",
            "4         2 2020-11-14 03:36:05 2020-11-14 03:39:19         646       viewer\n",
            "5         0 2020-03-11 03:01:40 2020-03-11 03:01:59         782     streamer\n",
            "6         0 2020-08-11 03:50:45 2020-08-11 03:55:59         815       viewer\n",
            "7         3 2020-10-11 22:15:14 2020-10-11 22:18:28         630       viewer\n",
            "8         1 2020-11-20 06:59:57 2020-11-20 07:20:11         907     streamer\n",
            "9         2 2020-07-11 14:32:19 2020-07-11 14:42:33         949       viewer\n",
            "10        4 2020-08-11 15:32:19 2020-08-11 16:42:33         818       viewer\n",
            "11        5 2020-12-20 07:59:57 2020-12-20 08:52:57         619     streamer\n",
            "12        6 2020-12-25 08:02:38 2020-12-25 08:36:42         832     streamer\n",
            "13        6 2020-08-12 15:44:19 2020-08-12 16:42:19         762     streamer\n",
            "14        6 2020-11-24 07:59:57 2020-11-24 08:16:57         760     streamer\n",
            "15        6 2020-08-14 05:50:45 2020-08-14 06:42:45         544       viewer\n",
            "16        7 2020-11-18 04:36:05 2020-11-18 04:43:05         906     streamer\n",
            "17        7 2020-08-14 05:50:45 2020-08-14 06:27:45         645     streamer\n",
            "18        7 2020-08-11 15:32:19 2020-08-11 16:22:19         817       viewer\n"
          ]
        }
      ],
      "source": [
        "import pandas as pd\n",
        "from io import StringIO\n",
        "\n",
        "data = \"\"\"user_id\\tsession_start\\tsession_end\\tsession_id\\tsession_type\n",
        "0\\t2020-08-11 05:51:31\\t2020-08-11 05:54:45\\t539\\tstreamer\n",
        "2\\t2020-07-11 03:36:54\\t2020-07-11 03:37:08\\t840\\tstreamer\n",
        "3\\t2020-11-26 11:41:47\\t2020-11-26 11:52:01\\t848\\tstreamer\n",
        "1\\t2020-11-19 06:24:24\\t2020-11-19 07:24:38\\t515\\tviewer\n",
        "2\\t2020-11-14 03:36:05\\t2020-11-14 03:39:19\\t646\\tviewer\n",
        "0\\t2020-03-11 03:01:40\\t2020-03-11 03:01:59\\t782\\tstreamer\n",
        "0\\t2020-08-11 03:50:45\\t2020-08-11 03:55:59\\t815\\tviewer\n",
        "3\\t2020-10-11 22:15:14\\t2020-10-11 22:18:28\\t630\\tviewer\n",
        "1\\t2020-11-20 06:59:57\\t2020-11-20 07:20:11\\t907\\tstreamer\n",
        "2\\t2020-07-11 14:32:19\\t2020-07-11 14:42:33\\t949\\tviewer\n",
        "4\\t2020-08-11 15:32:19\\t2020-08-11 16:42:33\\t818\\tviewer\n",
        "5\\t2020-12-20 07:59:57\\t2020-12-20 08:52:57\\t619\\tstreamer\n",
        "6\\t2020-12-25 08:02:38\\t2020-12-25 08:36:42\\t832\\tstreamer\n",
        "6\\t2020-08-12 15:44:19\\t2020-08-12 16:42:19\\t762\\tstreamer\n",
        "6\\t2020-11-24 07:59:57\\t2020-11-24 08:16:57\\t760\\tstreamer\n",
        "6\\t2020-08-14 05:50:45\\t2020-08-14 06:42:45\\t544\\tviewer\n",
        "7\\t2020-11-18 04:36:05\\t2020-11-18 04:43:05\\t906\\tstreamer\n",
        "7\\t2020-08-14 05:50:45\\t2020-08-14 06:27:45\\t645\\tstreamer\n",
        "7\\t2020-08-11 15:32:19\\t2020-08-11 16:22:19\\t817\\tviewer\"\"\"\n",
        "\n",
        "# Convert string data into a pandas DataFrame\n",
        "df = pd.read_csv(StringIO(data), sep=\"\\t\")\n",
        "\n",
        "# Convert datetime columns\n",
        "df[\"session_start\"] = pd.to_datetime(df[\"session_start\"])\n",
        "df[\"session_end\"] = pd.to_datetime(df[\"session_end\"])\n",
        "\n",
        "# Display the DataFrame\n",
        "print(df)"
      ]
    },
    {
      "cell_type": "code",
      "source": [
        "user_data = df.groupby(['user_id','session_type'])['session_id'].count().reset_index().rename({\"session_id\":'Number_of_sessions'},axis=1)\n",
        "pivot_user = user_data.pivot(values='Number_of_sessions',index='user_id',columns='session_type').reset_index()\n",
        "pivot_user.fillna(0,inplace=True)\n",
        "pivot_user['Total Sessions'] = pivot_user['streamer']+pivot_user['viewer']\n",
        "pivot_user[pivot_user['streamer']>pivot_user['viewer']].sort_values(by='Total Sessions',ascending=False)['user_id'].head(3)"
      ],
      "metadata": {
        "colab": {
          "base_uri": "https://localhost:8080/",
          "height": 178
        },
        "id": "_6XBGRCQM3xW",
        "outputId": "66c57791-7729-4904-c5a9-1bea2f4330c1"
      },
      "execution_count": 6,
      "outputs": [
        {
          "output_type": "execute_result",
          "data": {
            "text/plain": [
              "6    6\n",
              "0    0\n",
              "7    7\n",
              "Name: user_id, dtype: int64"
            ],
            "text/html": [
              "<div>\n",
              "<style scoped>\n",
              "    .dataframe tbody tr th:only-of-type {\n",
              "        vertical-align: middle;\n",
              "    }\n",
              "\n",
              "    .dataframe tbody tr th {\n",
              "        vertical-align: top;\n",
              "    }\n",
              "\n",
              "    .dataframe thead th {\n",
              "        text-align: right;\n",
              "    }\n",
              "</style>\n",
              "<table border=\"1\" class=\"dataframe\">\n",
              "  <thead>\n",
              "    <tr style=\"text-align: right;\">\n",
              "      <th></th>\n",
              "      <th>user_id</th>\n",
              "    </tr>\n",
              "  </thead>\n",
              "  <tbody>\n",
              "    <tr>\n",
              "      <th>6</th>\n",
              "      <td>6</td>\n",
              "    </tr>\n",
              "    <tr>\n",
              "      <th>0</th>\n",
              "      <td>0</td>\n",
              "    </tr>\n",
              "    <tr>\n",
              "      <th>7</th>\n",
              "      <td>7</td>\n",
              "    </tr>\n",
              "  </tbody>\n",
              "</table>\n",
              "</div><br><label><b>dtype:</b> int64</label>"
            ]
          },
          "metadata": {},
          "execution_count": 6
        }
      ]
    },
    {
      "cell_type": "markdown",
      "source": [
        "**2. Which hour has the highest average order volume per day? Your output should have the hour which satisfies that condition, and average order volume.**"
      ],
      "metadata": {
        "id": "Pj8F9oILNct7"
      }
    },
    {
      "cell_type": "code",
      "source": [
        "# Creating DataFrame for order data\n",
        "df_orders = pd.DataFrame({\n",
        "    'id': range(1, 21),\n",
        "    'customer_id': [102, 104, 100, 101, 103, 102, 103, 101, 101, 103, 102, 104, 100, 100, 104, 102, 102, 100, 104, 101],\n",
        "    'courier_id': [224, 224, 239, 205, 218, 201, 205, 246, 218, 211, 223, 211, 204, 231, 246, 231, 246, 205, 204, 231],\n",
        "    'seller_id': [79, 75, 79, 79, 71, 77, 79, 77, 79, 77, 79, 77, 71, 79, 75, 77, 79, 77, 77, 75],\n",
        "    'order_timestamp_utc': pd.to_datetime([\n",
        "        '2019-03-11 23:27:00', '2019-04-11 04:24:00', '2019-03-11 21:17:00', '2019-03-11 02:34:00',\n",
        "        '2019-04-11 00:15:00', '2019-03-11 18:22:00', '2019-04-11 11:15:00', '2019-03-11 04:12:00',\n",
        "        '2019-03-11 08:59:00', '2019-03-11 00:22:00', '2019-03-11 10:44:00', '2019-03-11 01:37:00',\n",
        "        '2019-03-11 07:00:00', '2019-03-11 03:12:00', '2019-04-11 08:52:00', '2019-03-11 08:26:00',\n",
        "        '2019-04-11 01:15:00', '2019-03-11 03:10:00', '2019-04-11 08:14:00', '2019-04-11 10:49:00'\n",
        "    ]),\n",
        "    'amount': [155.73, 216.6, 168.69, 210.84, 212.6, 220.83, 94.86, 86.15, 75.52, 15.85, 59.69, 153.61, 190.29, 115.45, 225.91, 158.68, 62.72, 125.65, 129.75, 105.07],\n",
        "    'city_id': [47, 44, 47, 43, 47, 47, 49, 49, 43, 49, 49, 44, 43, 49, 47, 43, 49, 49, 44, 43]\n",
        "})\n"
      ],
      "metadata": {
        "id": "HkA97-mQNExW"
      },
      "execution_count": 39,
      "outputs": []
    },
    {
      "cell_type": "code",
      "source": [
        "df_orders['order_timestamp']=df_orders['order_timestamp_utc'].dt.tz_localize('UTC').dt.tz_convert('US/Central')"
      ],
      "metadata": {
        "id": "zp9bTCGvOQwU"
      },
      "execution_count": 40,
      "outputs": []
    },
    {
      "cell_type": "code",
      "source": [
        "df_orders['hour_of_day']=df_orders.order_timestamp_utc.dt.hour\n",
        "df_orders['date_of_month']=df_orders.order_timestamp_utc.dt.date\n",
        "df_orders['date_of_month']=df_orders['date_of_month'].astype('datetime64[ns]')\n",
        "agg_data = df_orders.groupby(['date_of_month','hour_of_day'])['id'].count().reset_index().rename({'id':'order_count'},axis=1)\n",
        "agg_data.groupby('hour_of_day')['order_count'].mean().reset_index().sort_values(by='order_count',ascending=False).head(1)\n"
      ],
      "metadata": {
        "colab": {
          "base_uri": "https://localhost:8080/",
          "height": 81
        },
        "id": "JYggOKCBOR5_",
        "outputId": "f50965c3-b3e5-48d7-abaf-2dc557c92784"
      },
      "execution_count": 61,
      "outputs": [
        {
          "output_type": "execute_result",
          "data": {
            "text/plain": [
              "   hour_of_day  order_count\n",
              "3            3          2.0"
            ],
            "text/html": [
              "\n",
              "  <div id=\"df-4acb9696-fe69-4e13-b8c4-a209c28db38a\" class=\"colab-df-container\">\n",
              "    <div>\n",
              "<style scoped>\n",
              "    .dataframe tbody tr th:only-of-type {\n",
              "        vertical-align: middle;\n",
              "    }\n",
              "\n",
              "    .dataframe tbody tr th {\n",
              "        vertical-align: top;\n",
              "    }\n",
              "\n",
              "    .dataframe thead th {\n",
              "        text-align: right;\n",
              "    }\n",
              "</style>\n",
              "<table border=\"1\" class=\"dataframe\">\n",
              "  <thead>\n",
              "    <tr style=\"text-align: right;\">\n",
              "      <th></th>\n",
              "      <th>hour_of_day</th>\n",
              "      <th>order_count</th>\n",
              "    </tr>\n",
              "  </thead>\n",
              "  <tbody>\n",
              "    <tr>\n",
              "      <th>3</th>\n",
              "      <td>3</td>\n",
              "      <td>2.0</td>\n",
              "    </tr>\n",
              "  </tbody>\n",
              "</table>\n",
              "</div>\n",
              "    <div class=\"colab-df-buttons\">\n",
              "\n",
              "  <div class=\"colab-df-container\">\n",
              "    <button class=\"colab-df-convert\" onclick=\"convertToInteractive('df-4acb9696-fe69-4e13-b8c4-a209c28db38a')\"\n",
              "            title=\"Convert this dataframe to an interactive table.\"\n",
              "            style=\"display:none;\">\n",
              "\n",
              "  <svg xmlns=\"http://www.w3.org/2000/svg\" height=\"24px\" viewBox=\"0 -960 960 960\">\n",
              "    <path d=\"M120-120v-720h720v720H120Zm60-500h600v-160H180v160Zm220 220h160v-160H400v160Zm0 220h160v-160H400v160ZM180-400h160v-160H180v160Zm440 0h160v-160H620v160ZM180-180h160v-160H180v160Zm440 0h160v-160H620v160Z\"/>\n",
              "  </svg>\n",
              "    </button>\n",
              "\n",
              "  <style>\n",
              "    .colab-df-container {\n",
              "      display:flex;\n",
              "      gap: 12px;\n",
              "    }\n",
              "\n",
              "    .colab-df-convert {\n",
              "      background-color: #E8F0FE;\n",
              "      border: none;\n",
              "      border-radius: 50%;\n",
              "      cursor: pointer;\n",
              "      display: none;\n",
              "      fill: #1967D2;\n",
              "      height: 32px;\n",
              "      padding: 0 0 0 0;\n",
              "      width: 32px;\n",
              "    }\n",
              "\n",
              "    .colab-df-convert:hover {\n",
              "      background-color: #E2EBFA;\n",
              "      box-shadow: 0px 1px 2px rgba(60, 64, 67, 0.3), 0px 1px 3px 1px rgba(60, 64, 67, 0.15);\n",
              "      fill: #174EA6;\n",
              "    }\n",
              "\n",
              "    .colab-df-buttons div {\n",
              "      margin-bottom: 4px;\n",
              "    }\n",
              "\n",
              "    [theme=dark] .colab-df-convert {\n",
              "      background-color: #3B4455;\n",
              "      fill: #D2E3FC;\n",
              "    }\n",
              "\n",
              "    [theme=dark] .colab-df-convert:hover {\n",
              "      background-color: #434B5C;\n",
              "      box-shadow: 0px 1px 3px 1px rgba(0, 0, 0, 0.15);\n",
              "      filter: drop-shadow(0px 1px 2px rgba(0, 0, 0, 0.3));\n",
              "      fill: #FFFFFF;\n",
              "    }\n",
              "  </style>\n",
              "\n",
              "    <script>\n",
              "      const buttonEl =\n",
              "        document.querySelector('#df-4acb9696-fe69-4e13-b8c4-a209c28db38a button.colab-df-convert');\n",
              "      buttonEl.style.display =\n",
              "        google.colab.kernel.accessAllowed ? 'block' : 'none';\n",
              "\n",
              "      async function convertToInteractive(key) {\n",
              "        const element = document.querySelector('#df-4acb9696-fe69-4e13-b8c4-a209c28db38a');\n",
              "        const dataTable =\n",
              "          await google.colab.kernel.invokeFunction('convertToInteractive',\n",
              "                                                    [key], {});\n",
              "        if (!dataTable) return;\n",
              "\n",
              "        const docLinkHtml = 'Like what you see? Visit the ' +\n",
              "          '<a target=\"_blank\" href=https://colab.research.google.com/notebooks/data_table.ipynb>data table notebook</a>'\n",
              "          + ' to learn more about interactive tables.';\n",
              "        element.innerHTML = '';\n",
              "        dataTable['output_type'] = 'display_data';\n",
              "        await google.colab.output.renderOutput(dataTable, element);\n",
              "        const docLink = document.createElement('div');\n",
              "        docLink.innerHTML = docLinkHtml;\n",
              "        element.appendChild(docLink);\n",
              "      }\n",
              "    </script>\n",
              "  </div>\n",
              "\n",
              "\n",
              "    </div>\n",
              "  </div>\n"
            ],
            "application/vnd.google.colaboratory.intrinsic+json": {
              "type": "dataframe",
              "summary": "{\n  \"name\": \"agg_data\",\n  \"rows\": 1,\n  \"fields\": [\n    {\n      \"column\": \"hour_of_day\",\n      \"properties\": {\n        \"dtype\": \"int32\",\n        \"num_unique_values\": 1,\n        \"samples\": [\n          3\n        ],\n        \"semantic_type\": \"\",\n        \"description\": \"\"\n      }\n    },\n    {\n      \"column\": \"order_count\",\n      \"properties\": {\n        \"dtype\": \"number\",\n        \"std\": null,\n        \"min\": 2.0,\n        \"max\": 2.0,\n        \"num_unique_values\": 1,\n        \"samples\": [\n          2.0\n        ],\n        \"semantic_type\": \"\",\n        \"description\": \"\"\n      }\n    }\n  ]\n}"
            }
          },
          "metadata": {},
          "execution_count": 61
        }
      ]
    },
    {
      "cell_type": "markdown",
      "source": [
        "**3. What cities recorded the largest growth and biggest drop in order amount between March 11, 2019, and April 11, 2019. Just compare order amounts on those two dates. Your output should include the names of the cities and the amount of growth/drop.**\n",
        "\n",
        "------------------------------------------------------------------------------------\n",
        "\n"
      ],
      "metadata": {
        "id": "-SlkddluR-GE"
      }
    },
    {
      "cell_type": "code",
      "source": [
        "agg_data = df_orders.groupby(['city_id','date_of_month'])['amount'].sum().reset_index()\n",
        "agg_data['previous_amount']=agg_data.groupby(['city_id'])['amount'].shift()\n",
        "final_data = agg_data[~agg_data['previous_amount'].isna()]\n",
        "final_data['delta']=100*(final_data['amount']-final_data['previous_amount'])/final_data['previous_amount']"
      ],
      "metadata": {
        "colab": {
          "base_uri": "https://localhost:8080/"
        },
        "id": "CozP5kTCTg41",
        "outputId": "15bc31bf-ab55-47fb-bf6d-1ffaca546dde"
      },
      "execution_count": 96,
      "outputs": [
        {
          "output_type": "stream",
          "name": "stderr",
          "text": [
            "<ipython-input-96-f2c9213fbc75>:4: SettingWithCopyWarning: \n",
            "A value is trying to be set on a copy of a slice from a DataFrame.\n",
            "Try using .loc[row_indexer,col_indexer] = value instead\n",
            "\n",
            "See the caveats in the documentation: https://pandas.pydata.org/pandas-docs/stable/user_guide/indexing.html#returning-a-view-versus-a-copy\n",
            "  final_data['delta']=100*(final_data['amount']-final_data['previous_amount'])/final_data['previous_amount']\n"
          ]
        }
      ]
    },
    {
      "cell_type": "code",
      "source": [
        "largest_growth = final_data[final_data['delta']==final_data['delta'].max()]['city_id']\n",
        "biggest_drop = final_data[final_data['delta']==final_data['delta'].min()]['city_id']"
      ],
      "metadata": {
        "id": "O2MwrwDIXTSk"
      },
      "execution_count": 99,
      "outputs": []
    },
    {
      "cell_type": "code",
      "source": [
        "biggest_drop"
      ],
      "metadata": {
        "colab": {
          "base_uri": "https://localhost:8080/",
          "height": 115
        },
        "id": "9OHadIQ_YcOx",
        "outputId": "ebe13214-e85a-47f5-abe7-24ce2a535809"
      },
      "execution_count": 100,
      "outputs": [
        {
          "output_type": "execute_result",
          "data": {
            "text/plain": [
              "1    43\n",
              "Name: city_id, dtype: int64"
            ],
            "text/html": [
              "<div>\n",
              "<style scoped>\n",
              "    .dataframe tbody tr th:only-of-type {\n",
              "        vertical-align: middle;\n",
              "    }\n",
              "\n",
              "    .dataframe tbody tr th {\n",
              "        vertical-align: top;\n",
              "    }\n",
              "\n",
              "    .dataframe thead th {\n",
              "        text-align: right;\n",
              "    }\n",
              "</style>\n",
              "<table border=\"1\" class=\"dataframe\">\n",
              "  <thead>\n",
              "    <tr style=\"text-align: right;\">\n",
              "      <th></th>\n",
              "      <th>city_id</th>\n",
              "    </tr>\n",
              "  </thead>\n",
              "  <tbody>\n",
              "    <tr>\n",
              "      <th>1</th>\n",
              "      <td>43</td>\n",
              "    </tr>\n",
              "  </tbody>\n",
              "</table>\n",
              "</div><br><label><b>dtype:</b> int64</label>"
            ]
          },
          "metadata": {},
          "execution_count": 100
        }
      ]
    },
    {
      "cell_type": "code",
      "source": [
        "largest_growth"
      ],
      "metadata": {
        "colab": {
          "base_uri": "https://localhost:8080/",
          "height": 115
        },
        "id": "T9Lre8jBa_8u",
        "outputId": "ee714027-7088-4cb8-854a-4bd2824e06d2"
      },
      "execution_count": 101,
      "outputs": [
        {
          "output_type": "execute_result",
          "data": {
            "text/plain": [
              "3    44\n",
              "Name: city_id, dtype: int64"
            ],
            "text/html": [
              "<div>\n",
              "<style scoped>\n",
              "    .dataframe tbody tr th:only-of-type {\n",
              "        vertical-align: middle;\n",
              "    }\n",
              "\n",
              "    .dataframe tbody tr th {\n",
              "        vertical-align: top;\n",
              "    }\n",
              "\n",
              "    .dataframe thead th {\n",
              "        text-align: right;\n",
              "    }\n",
              "</style>\n",
              "<table border=\"1\" class=\"dataframe\">\n",
              "  <thead>\n",
              "    <tr style=\"text-align: right;\">\n",
              "      <th></th>\n",
              "      <th>city_id</th>\n",
              "    </tr>\n",
              "  </thead>\n",
              "  <tbody>\n",
              "    <tr>\n",
              "      <th>3</th>\n",
              "      <td>44</td>\n",
              "    </tr>\n",
              "  </tbody>\n",
              "</table>\n",
              "</div><br><label><b>dtype:</b> int64</label>"
            ]
          },
          "metadata": {},
          "execution_count": 101
        }
      ]
    },
    {
      "cell_type": "code",
      "source": [],
      "metadata": {
        "id": "Iwj7ON0cbBer"
      },
      "execution_count": null,
      "outputs": []
    }
  ]
}